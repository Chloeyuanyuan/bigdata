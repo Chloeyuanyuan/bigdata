{
  "nbformat": 4,
  "nbformat_minor": 0,
  "metadata": {
    "colab": {
      "name": "LightFM.ipynb",
      "provenance": []
    },
    "kernelspec": {
      "name": "python3",
      "display_name": "Python 3"
    },
    "language_info": {
      "name": "python"
    }
  },
  "cells": [
    {
      "cell_type": "code",
      "execution_count": 3,
      "metadata": {
        "colab": {
          "base_uri": "https://localhost:8080/"
        },
        "id": "v-i-Gg44T4A6",
        "outputId": "f0180bd2-bee2-4ee8-cc7c-9d467b82925b"
      },
      "outputs": [
        {
          "output_type": "stream",
          "name": "stdout",
          "text": [
            "Collecting lightfm\n",
            "  Downloading lightfm-1.16.tar.gz (310 kB)\n",
            "\u001b[?25l\r\u001b[K     |█                               | 10 kB 18.3 MB/s eta 0:00:01\r\u001b[K     |██▏                             | 20 kB 21.2 MB/s eta 0:00:01\r\u001b[K     |███▏                            | 30 kB 24.3 MB/s eta 0:00:01\r\u001b[K     |████▎                           | 40 kB 6.3 MB/s eta 0:00:01\r\u001b[K     |█████▎                          | 51 kB 6.0 MB/s eta 0:00:01\r\u001b[K     |██████▍                         | 61 kB 7.0 MB/s eta 0:00:01\r\u001b[K     |███████▍                        | 71 kB 7.3 MB/s eta 0:00:01\r\u001b[K     |████████▌                       | 81 kB 7.5 MB/s eta 0:00:01\r\u001b[K     |█████████▌                      | 92 kB 8.3 MB/s eta 0:00:01\r\u001b[K     |██████████▋                     | 102 kB 6.9 MB/s eta 0:00:01\r\u001b[K     |███████████▋                    | 112 kB 6.9 MB/s eta 0:00:01\r\u001b[K     |████████████▊                   | 122 kB 6.9 MB/s eta 0:00:01\r\u001b[K     |█████████████▊                  | 133 kB 6.9 MB/s eta 0:00:01\r\u001b[K     |██████████████▉                 | 143 kB 6.9 MB/s eta 0:00:01\r\u001b[K     |███████████████▉                | 153 kB 6.9 MB/s eta 0:00:01\r\u001b[K     |█████████████████               | 163 kB 6.9 MB/s eta 0:00:01\r\u001b[K     |██████████████████              | 174 kB 6.9 MB/s eta 0:00:01\r\u001b[K     |███████████████████             | 184 kB 6.9 MB/s eta 0:00:01\r\u001b[K     |████████████████████            | 194 kB 6.9 MB/s eta 0:00:01\r\u001b[K     |█████████████████████▏          | 204 kB 6.9 MB/s eta 0:00:01\r\u001b[K     |██████████████████████▏         | 215 kB 6.9 MB/s eta 0:00:01\r\u001b[K     |███████████████████████▎        | 225 kB 6.9 MB/s eta 0:00:01\r\u001b[K     |████████████████████████▎       | 235 kB 6.9 MB/s eta 0:00:01\r\u001b[K     |█████████████████████████▍      | 245 kB 6.9 MB/s eta 0:00:01\r\u001b[K     |██████████████████████████▍     | 256 kB 6.9 MB/s eta 0:00:01\r\u001b[K     |███████████████████████████▌    | 266 kB 6.9 MB/s eta 0:00:01\r\u001b[K     |████████████████████████████▌   | 276 kB 6.9 MB/s eta 0:00:01\r\u001b[K     |█████████████████████████████▋  | 286 kB 6.9 MB/s eta 0:00:01\r\u001b[K     |██████████████████████████████▋ | 296 kB 6.9 MB/s eta 0:00:01\r\u001b[K     |███████████████████████████████▊| 307 kB 6.9 MB/s eta 0:00:01\r\u001b[K     |████████████████████████████████| 310 kB 6.9 MB/s \n",
            "\u001b[?25hRequirement already satisfied: numpy in /usr/local/lib/python3.7/dist-packages (from lightfm) (1.21.6)\n",
            "Requirement already satisfied: scipy>=0.17.0 in /usr/local/lib/python3.7/dist-packages (from lightfm) (1.4.1)\n",
            "Requirement already satisfied: requests in /usr/local/lib/python3.7/dist-packages (from lightfm) (2.23.0)\n",
            "Requirement already satisfied: scikit-learn in /usr/local/lib/python3.7/dist-packages (from lightfm) (1.0.2)\n",
            "Requirement already satisfied: chardet<4,>=3.0.2 in /usr/local/lib/python3.7/dist-packages (from requests->lightfm) (3.0.4)\n",
            "Requirement already satisfied: idna<3,>=2.5 in /usr/local/lib/python3.7/dist-packages (from requests->lightfm) (2.10)\n",
            "Requirement already satisfied: urllib3!=1.25.0,!=1.25.1,<1.26,>=1.21.1 in /usr/local/lib/python3.7/dist-packages (from requests->lightfm) (1.24.3)\n",
            "Requirement already satisfied: certifi>=2017.4.17 in /usr/local/lib/python3.7/dist-packages (from requests->lightfm) (2021.10.8)\n",
            "Requirement already satisfied: threadpoolctl>=2.0.0 in /usr/local/lib/python3.7/dist-packages (from scikit-learn->lightfm) (3.1.0)\n",
            "Requirement already satisfied: joblib>=0.11 in /usr/local/lib/python3.7/dist-packages (from scikit-learn->lightfm) (1.1.0)\n",
            "Building wheels for collected packages: lightfm\n",
            "  Building wheel for lightfm (setup.py) ... \u001b[?25l\u001b[?25hdone\n",
            "  Created wheel for lightfm: filename=lightfm-1.16-cp37-cp37m-linux_x86_64.whl size=705372 sha256=a05201b8a03cddd73a5d73dc11dfa1cfeb8e0d355027319b9120f96ea7044695\n",
            "  Stored in directory: /root/.cache/pip/wheels/f8/56/28/5772a3bd3413d65f03aa452190b00898b680b10028a1021914\n",
            "Successfully built lightfm\n",
            "Installing collected packages: lightfm\n",
            "Successfully installed lightfm-1.16\n"
          ]
        }
      ],
      "source": [
        "pip install lightfm"
      ]
    },
    {
      "cell_type": "code",
      "source": [
        "from lightfm.data import Dataset\n",
        "import json\n",
        "from itertools import islice\n",
        "import pandas as pd\n",
        "import numpy as np\n",
        "from lightfm import LightFM\n",
        "from scipy.sparse import coo_matrix\n",
        "import os\n",
        "from google.colab import drive\n",
        "#if run on local machine, set your path here\n",
        "#drive.mount('/content/drive')\n",
        "#%cd /content/drive/MyDrive/Big_Data_Final_Project"
      ],
      "metadata": {
        "id": "Lp3Ux9RlT8V4",
        "colab": {
          "base_uri": "https://localhost:8080/"
        },
        "outputId": "c7b167e7-e594-42d3-8f2f-ec7009258893"
      },
      "execution_count": 4,
      "outputs": [
        {
          "output_type": "stream",
          "name": "stdout",
          "text": [
            "Mounted at /content/drive\n",
            "/content/drive/MyDrive/Big_Data_Final_Project\n"
          ]
        }
      ]
    },
    {
      "cell_type": "code",
      "source": [
        "#if run on colab, set your path here\n",
        "#path = \"/content/drive/MyDrive/Big_Data_Final_Project/Data\""
      ],
      "metadata": {
        "id": "dZoAnyzfYbuA"
      },
      "execution_count": 5,
      "outputs": []
    },
    {
      "cell_type": "code",
      "source": [
        "files = os.listdir(path)"
      ],
      "metadata": {
        "id": "YYSpukD7lC2R"
      },
      "execution_count": 6,
      "outputs": []
    },
    {
      "cell_type": "code",
      "source": [
        "files[4]"
      ],
      "metadata": {
        "colab": {
          "base_uri": "https://localhost:8080/",
          "height": 37
        },
        "id": "Yj80DHG7lGOv",
        "outputId": "4e9f02a1-50ca-483c-f338-336d56d94299"
      },
      "execution_count": 7,
      "outputs": [
        {
          "output_type": "execute_result",
          "data": {
            "text/plain": [
              "'train_small'"
            ],
            "application/vnd.google.colaboratory.intrinsic+json": {
              "type": "string"
            }
          },
          "metadata": {},
          "execution_count": 7
        }
      ]
    },
    {
      "cell_type": "code",
      "source": [
        "val_medium = pd.read_csv(f\"{path}/{files[2]}\", header = None)\n",
        "test_medium = pd.read_csv(f\"{path}/{files[1]}\", header = None)\n",
        "test_small = pd.read_csv(f\"{path}/{files[3]}\", header = None)\n",
        "val_small =pd.read_csv(f\"{path}/{files[5]}\", header = None) "
      ],
      "metadata": {
        "id": "mdEhqpn3lRqF"
      },
      "execution_count": 8,
      "outputs": []
    },
    {
      "cell_type": "code",
      "source": [
        "train_path1 = \"/content/drive/MyDrive/Big_Data_Final_Project/Data/train_small\"\n",
        "train_path2 = \"/content/drive/MyDrive/Big_Data_Final_Project/Data/train_medium\"\n",
        "#train_path3\n"
      ],
      "metadata": {
        "id": "dshkOYJUjSsT"
      },
      "execution_count": 9,
      "outputs": []
    },
    {
      "cell_type": "code",
      "source": [
        "def read_file(path, columns_name):\n",
        "  df = pd.DataFrame()\n",
        "  for file in os.listdir(path):\n",
        "    df = df.append(pd.read_csv(f\"{path}/{file}\", header = None))\n",
        "\n",
        "  df.columns = columns_name\n",
        "  return df"
      ],
      "metadata": {
        "id": "CxaUcIoQj9LN"
      },
      "execution_count": 10,
      "outputs": []
    },
    {
      "cell_type": "code",
      "source": [
        "train_small = read_file(train_path1,['userId', 'movieId', 'rating', 'tag', 'timestamp', 'title', 'genre', 'imbdid', 'tmdbid'])\n",
        "train_medium = read_file(train_path2,['userId', 'movieId', 'rating'])"
      ],
      "metadata": {
        "id": "fG3OdVdgnQEb"
      },
      "execution_count": 11,
      "outputs": []
    },
    {
      "cell_type": "code",
      "source": [
        "val_medium.columns = ['userId', 'movieId', 'rating']\n",
        "test_medium.columns = ['userId', 'movieId', 'rating']\n",
        "\n"
      ],
      "metadata": {
        "id": "Pp952k0R5TON"
      },
      "execution_count": 12,
      "outputs": []
    },
    {
      "cell_type": "code",
      "source": [
        "val_small.columns = ['userId', 'movieId', 'rating', 'tag', 'timestamp', 'title', 'genre', 'imbdid', 'tmdbid']\n",
        "test_small.columns = ['userId', 'movieId', 'rating', 'tag', 'timestamp', 'title', 'genre', 'imbdid', 'tmdbid']\n",
        "val_small = val_small[['userId', 'movieId', 'rating']]\n",
        "test_small = test_small[['userId', 'movieId', 'rating']]\n",
        "train_small = train_small[['userId', 'movieId', 'rating']]"
      ],
      "metadata": {
        "id": "Os8-DazDMTTF"
      },
      "execution_count": 13,
      "outputs": []
    },
    {
      "cell_type": "code",
      "source": [
        "movies = train_small.movieId.unique()\n",
        "movies_v = val_small.movieId.unique()\n",
        "movies_test = test_small.movieId.unique()\n",
        "len = 0\n",
        "for j in movies_v:\n",
        "  if j not in movies:\n",
        "     val_small = val_small[val_small['movieId'] != j]\n",
        "\n",
        "for j in movies_test:\n",
        "  if j not in movies:\n",
        "     test_small = test_small[test_small['movieId'] != j]\n"
      ],
      "metadata": {
        "id": "-oPTErfpY8pD"
      },
      "execution_count": 14,
      "outputs": []
    },
    {
      "cell_type": "code",
      "source": [
        "df_merge = pd.merge(val_small, train_small, on=['userId','movieId','rating'], how='inner')\n",
        "val_small = val_small.append(df_merge) \n",
        "\n",
        "val_small['Duplicated'] = val_small.duplicated(keep=False) # keep=False marks the duplicated row with a True\n",
        "val_final = val_small[~val_small['Duplicated']] # selects only rows which are not duplicated.\n",
        "del val_final['Duplicated'] # delete the indicator column\n",
        "\n"
      ],
      "metadata": {
        "id": "Cfl-NZWHxHQZ"
      },
      "execution_count": 15,
      "outputs": []
    },
    {
      "cell_type": "code",
      "source": [
        "df_merge_1 = pd.merge(test_small, train_small, on=['userId','movieId','rating'], how='inner')\n",
        "test_small = test_small.append(df_merge_1) \n",
        "\n",
        "test_small['Duplicated'] = test_small.duplicated(keep=False) # keep=False marks the duplicated row with a True\n",
        "test_final = test_small[~test_small['Duplicated']] # selects only rows which are not duplicated.\n",
        "del test_final['Duplicated'] # delete the indicator column"
      ],
      "metadata": {
        "id": "p9MCdA-b0FaW"
      },
      "execution_count": 16,
      "outputs": []
    },
    {
      "cell_type": "code",
      "source": [
        "val_final.reset_index(drop=True, inplace=True)\n"
      ],
      "metadata": {
        "id": "pz5BYNJT0vug"
      },
      "execution_count": 17,
      "outputs": []
    },
    {
      "cell_type": "code",
      "source": [
        "test_final.reset_index(drop=True, inplace=True)"
      ],
      "metadata": {
        "id": "FFW6TXus2JSm"
      },
      "execution_count": 18,
      "outputs": []
    },
    {
      "cell_type": "code",
      "source": [
        "model_small = Dataset()\n",
        "model_small.fit((i for i in train_small['userId'].unique()),(j for j in train_small['movieId'].unique()))\n",
        "tr_interaction, w = model_small.build_interactions((((r[1]['userId'], r[1]['movieId'], r[1]['rating']) for r in train_small.iterrows())))\n"
      ],
      "metadata": {
        "id": "yaS1ReKT1Ln2"
      },
      "execution_count": 19,
      "outputs": []
    },
    {
      "cell_type": "code",
      "source": [
        "def map_val_interaction(val, model):\n",
        "  user_map, item_map = model.mapping()[0], model.mapping()[2]\n",
        "  user_id = np.array([user_map[k] for k in val.userId])\n",
        "  item_id = np.array([item_map[i] for i in val.movieId])\n",
        "  rating = val['rating']\n",
        "  transformed_matrix = coo_matrix((rating, (user_id, item_id)), shape = model.interactions_shape())\n",
        "  return transformed_matrix\n"
      ],
      "metadata": {
        "id": "98yOvh8u31Ir"
      },
      "execution_count": 20,
      "outputs": []
    },
    {
      "cell_type": "code",
      "source": [
        "small_val = map_val_interaction(val_final, model_small)"
      ],
      "metadata": {
        "id": "fco7zC6f4RZ_"
      },
      "execution_count": 21,
      "outputs": []
    },
    {
      "cell_type": "code",
      "source": [
        "small_test = map_val_interaction(test_final, model_small)"
      ],
      "metadata": {
        "id": "_nSrUTR87ekp"
      },
      "execution_count": 22,
      "outputs": []
    },
    {
      "cell_type": "markdown",
      "source": [
        "Construct a Sparse Matrix which row are user id, and column are movieID"
      ],
      "metadata": {
        "id": "TDb5MfD13xjq"
      }
    },
    {
      "cell_type": "code",
      "source": [
        "from lightfm.evaluation import precision_at_k"
      ],
      "metadata": {
        "id": "8Rns5Vx6t6Ws"
      },
      "execution_count": 23,
      "outputs": []
    },
    {
      "cell_type": "code",
      "source": [
        "from time import time\n",
        "iter = [5, 10, 15, 20, 25, 30, 35, 40, 45, 50,55,60, 65, 70, 75,80, 85, 90]\n",
        "reg = 0.001\n",
        "r = 10\n",
        "result = []\n",
        "t = []\n",
        "\n",
        "for i in iter:\n",
        "  init = time()\n",
        "  m = LightFM(no_components= r, user_alpha = reg, loss='warp', random_state = 1999)\n",
        "  m.fit(interactions = tr_interaction, sample_weight = w, epochs = i)\n",
        "  pred = precision_at_k(m, small_val, train_interactions=tr_interaction, k=100).mean()\n",
        "  total = time() - init\n",
        "  t.append(total)\n",
        "  result.append(pred)\n",
        "\n",
        "  print('when max iteration is {}, reg_para is {}, and rank is {}'.format(i, reg, r))\n",
        "  print(\"running time is {}\".format(total))\n",
        "  print('the Precision at 100 is {}'.format(pred))\n"
      ],
      "metadata": {
        "colab": {
          "base_uri": "https://localhost:8080/"
        },
        "id": "cIm-DRO4Nljp",
        "outputId": "d0f7cb3b-829f-4964-b046-8ce969a4ca0b"
      },
      "execution_count": 84,
      "outputs": [
        {
          "output_type": "stream",
          "name": "stdout",
          "text": [
            "when max iteration is 5, reg_para is 0.001, and rank is 10\n",
            "running time is 0.547889232635498\n",
            "the Precision at 100 is 0.2121538668870926\n",
            "when max iteration is 10, reg_para is 0.001, and rank is 10\n",
            "running time is 0.8997585773468018\n",
            "the Precision at 100 is 0.22676922380924225\n",
            "when max iteration is 15, reg_para is 0.001, and rank is 10\n",
            "running time is 1.2055790424346924\n",
            "the Precision at 100 is 0.23161539435386658\n",
            "when max iteration is 20, reg_para is 0.001, and rank is 10\n",
            "running time is 1.5420689582824707\n",
            "the Precision at 100 is 0.2322307527065277\n",
            "when max iteration is 25, reg_para is 0.001, and rank is 10\n",
            "running time is 1.856114387512207\n",
            "the Precision at 100 is 0.23461538553237915\n",
            "when max iteration is 30, reg_para is 0.001, and rank is 10\n",
            "running time is 2.2291247844696045\n",
            "the Precision at 100 is 0.235846146941185\n",
            "when max iteration is 35, reg_para is 0.001, and rank is 10\n",
            "running time is 2.5383245944976807\n",
            "the Precision at 100 is 0.23723077774047852\n",
            "when max iteration is 40, reg_para is 0.001, and rank is 10\n",
            "running time is 2.9016799926757812\n",
            "the Precision at 100 is 0.23676921427249908\n",
            "when max iteration is 45, reg_para is 0.001, and rank is 10\n",
            "running time is 3.254119634628296\n",
            "the Precision at 100 is 0.23669229447841644\n",
            "when max iteration is 50, reg_para is 0.001, and rank is 10\n",
            "running time is 3.6546287536621094\n",
            "the Precision at 100 is 0.23846153914928436\n",
            "when max iteration is 55, reg_para is 0.001, and rank is 10\n",
            "running time is 3.8561956882476807\n",
            "the Precision at 100 is 0.23753845691680908\n",
            "when max iteration is 60, reg_para is 0.001, and rank is 10\n",
            "running time is 4.157179594039917\n",
            "the Precision at 100 is 0.2385384440422058\n",
            "when max iteration is 65, reg_para is 0.001, and rank is 10\n",
            "running time is 4.496847629547119\n",
            "the Precision at 100 is 0.23761539161205292\n",
            "when max iteration is 70, reg_para is 0.001, and rank is 10\n",
            "running time is 4.9721174240112305\n",
            "the Precision at 100 is 0.2385384440422058\n",
            "when max iteration is 75, reg_para is 0.001, and rank is 10\n",
            "running time is 5.392566919326782\n",
            "the Precision at 100 is 0.23961538076400757\n",
            "when max iteration is 80, reg_para is 0.001, and rank is 10\n",
            "running time is 5.863853931427002\n",
            "the Precision at 100 is 0.23923076689243317\n",
            "when max iteration is 85, reg_para is 0.001, and rank is 10\n",
            "running time is 5.826906204223633\n",
            "the Precision at 100 is 0.2389230579137802\n",
            "when max iteration is 90, reg_para is 0.001, and rank is 10\n",
            "running time is 6.2105488777160645\n",
            "the Precision at 100 is 0.23915384709835052\n"
          ]
        }
      ]
    },
    {
      "cell_type": "code",
      "source": [
        "import matplotlib.pyplot as plt\n",
        "ax = plt.axes()\n",
        "ax.plot(iter, result, color = 'k',linestyle='-', marker='o', label = 'loss = warp', mec = 'k', mfc = 'k')\n",
        "ax.set_xlabel('Max Iteration(epochs)')\n",
        "ax.set_ylabel('Precision at K(100)')\n",
        "ax.set_title(\"Rank = 10 and reg_para = 0.001, on mini(1%) dataset\")"
      ],
      "metadata": {
        "colab": {
          "base_uri": "https://localhost:8080/",
          "height": 312
        },
        "id": "dttk68OUkXl2",
        "outputId": "1d8ce246-d436-4d97-8d4d-90a74284d7ec"
      },
      "execution_count": 85,
      "outputs": [
        {
          "output_type": "execute_result",
          "data": {
            "text/plain": [
              "Text(0.5, 1.0, 'Rank = 10 and reg_para = 0.001, on mini(1%) dataset')"
            ]
          },
          "metadata": {},
          "execution_count": 85
        },
        {
          "output_type": "display_data",
          "data": {
            "text/plain": [
              "<Figure size 432x288 with 1 Axes>"
            ],
            "image/png": "[encoded data removed]"
          },
          "metadata": {
            "needs_background": "light"
          }
        }
      ]
    },
    {
      "cell_type": "code",
      "source": [
        "from time import time\n",
        "iter = 25\n",
        "reg_para = [0.0001, 0.0005, 0.001,0.005, 0.01, 0.05, 0.1, 0.5]\n",
        "r = 10\n",
        "result1 = []\n",
        "t1 = []\n",
        "for reg in reg_para:\n",
        "  init = time()\n",
        "  m = LightFM(no_components= r, user_alpha = reg, loss='warp', random_state = 1999)\n",
        "  m.fit(interactions = tr_interaction, sample_weight = w, epochs = iter)\n",
        "  pred = precision_at_k(m, small_val, train_interactions=tr_interaction, k=100).mean()\n",
        "  total = time() - init\n",
        "  t1.append(total)\n",
        "  result1.append(pred)\n",
        "  print('when max iteration is {}, reg_para is {}, and rank is {}'.format(iter, reg, r))\n",
        "  print(\"running time is {}\".format(total))\n",
        "  print('the Precision at 100 is {}'.format(pred))"
      ],
      "metadata": {
        "colab": {
          "base_uri": "https://localhost:8080/"
        },
        "id": "tNToPNkwGVEc",
        "outputId": "3bdc6667-1a6b-44ea-801f-7267beb6be62"
      },
      "execution_count": 81,
      "outputs": [
        {
          "output_type": "stream",
          "name": "stdout",
          "text": [
            "when max iteration is 25, reg_para is 0.0001, and rank is 10\n",
            "running time is 1.9393393993377686\n",
            "the Precision at 100 is 0.2337692230939865\n",
            "when max iteration is 25, reg_para is 0.0005, and rank is 10\n",
            "running time is 1.9213991165161133\n",
            "the Precision at 100 is 0.2330000102519989\n",
            "when max iteration is 25, reg_para is 0.001, and rank is 10\n",
            "running time is 1.948345422744751\n",
            "the Precision at 100 is 0.23461538553237915\n",
            "when max iteration is 25, reg_para is 0.005, and rank is 10\n",
            "running time is 1.961200475692749\n",
            "the Precision at 100 is 0.21592307090759277\n",
            "when max iteration is 25, reg_para is 0.01, and rank is 10\n",
            "running time is 1.9270153045654297\n",
            "the Precision at 100 is 0.18038462102413177\n",
            "when max iteration is 25, reg_para is 0.05, and rank is 10\n",
            "running time is 1.985023021697998\n",
            "the Precision at 100 is 0.0023846153635531664\n",
            "when max iteration is 25, reg_para is 0.1, and rank is 10\n",
            "running time is 1.9725368022918701\n",
            "the Precision at 100 is 0.006923076696693897\n",
            "when max iteration is 25, reg_para is 0.5, and rank is 10\n",
            "running time is 1.970083475112915\n",
            "the Precision at 100 is 0.010230768471956253\n"
          ]
        }
      ]
    },
    {
      "cell_type": "code",
      "source": [
        "from time import time\n",
        "iter = 25\n",
        "reg = 0.001\n",
        "rank = [10, 20, 30, 40, 50, 60, 70, 80, 90, 100]\n",
        "result2 = []\n",
        "t2 = []\n",
        "for r in rank:\n",
        "  init = time()\n",
        "  m = LightFM(no_components= r, user_alpha = reg, loss='warp', random_state = 1999)\n",
        "  m.fit(interactions = tr_interaction, sample_weight = w, epochs = iter)\n",
        "  pred = precision_at_k(m, small_val, train_interactions=tr_interaction, k=100).mean()\n",
        "  total = time() - init\n",
        "  t2.append(total)\n",
        "  result2.append(pred)\n",
        "  print('when max iteration is {}, reg_para is {}, and rank is {}'.format(iter, reg, r))\n",
        "  print(\"running time is {}\".format(total))\n",
        "  print('the Precision at 100 is {}'.format(pred))"
      ],
      "metadata": {
        "colab": {
          "base_uri": "https://localhost:8080/"
        },
        "id": "9qO3aN-vX-oX",
        "outputId": "fc3e6467-47f8-42d2-8327-fe80e289795d"
      },
      "execution_count": 80,
      "outputs": [
        {
          "output_type": "stream",
          "name": "stdout",
          "text": [
            "when max iteration is 25, reg_para is 0.001, and rank is 10\n",
            "running time is 2.0005738735198975\n",
            "the Precision at 100 is 0.23461538553237915\n",
            "when max iteration is 25, reg_para is 0.001, and rank is 20\n",
            "running time is 2.8812949657440186\n",
            "the Precision at 100 is 0.23646153509616852\n",
            "when max iteration is 25, reg_para is 0.001, and rank is 30\n",
            "running time is 3.659104347229004\n",
            "the Precision at 100 is 0.24015383422374725\n",
            "when max iteration is 25, reg_para is 0.001, and rank is 40\n",
            "running time is 8.900588989257812\n",
            "the Precision at 100 is 0.24146151542663574\n",
            "when max iteration is 25, reg_para is 0.001, and rank is 50\n",
            "running time is 5.393122673034668\n",
            "the Precision at 100 is 0.2400769293308258\n",
            "when max iteration is 25, reg_para is 0.001, and rank is 60\n",
            "running time is 6.766097068786621\n",
            "the Precision at 100 is 0.23715385794639587\n",
            "when max iteration is 25, reg_para is 0.001, and rank is 70\n",
            "running time is 7.149378776550293\n",
            "the Precision at 100 is 0.23592309653759003\n",
            "when max iteration is 25, reg_para is 0.001, and rank is 80\n",
            "running time is 8.375746488571167\n",
            "the Precision at 100 is 0.23523075878620148\n",
            "when max iteration is 25, reg_para is 0.001, and rank is 90\n",
            "running time is 9.114963054656982\n",
            "the Precision at 100 is 0.23407694697380066\n",
            "when max iteration is 25, reg_para is 0.001, and rank is 100\n",
            "running time is 9.974902868270874\n",
            "the Precision at 100 is 0.23307691514492035\n"
          ]
        }
      ]
    },
    {
      "cell_type": "code",
      "source": [
        "import matplotlib.pyplot as plt\n",
        "fig, ((ax1, ax2))  = plt.subplots(1,2,figsize=(12,4))\n",
        "\n",
        "ax1.plot(rank, result2, color = 'k',linestyle='-', marker='o', label = 'regParam = 0.001', mec = 'k', mfc = 'k')\n",
        "ax2.plot(np.log(reg_para), result1, color = 'g',linestyle='-', marker='o', label = 'rank = 10', mec = 'g', mfc = 'g')\n",
        "ax1.set_xlabel('rank(no_components)')\n",
        "ax1.set_ylabel('Precision at K(100)')\n",
        "ax1.set_xticks(rank)\n",
        "ax1.set_title(\"LightFM Max Iteration = 25, reg = 0.001\")\n",
        "ax2.set_xlabel('log of Regularization parameter')\n",
        "ax2.set_ylabel('Precision at K(100)')\n",
        "ax2.set_xticks([round(i, 1) for i in np.log(reg_para)])\n",
        "ax2.set_title(\"LightFM Max Iteration = 25, rank = 10\")"
      ],
      "metadata": {
        "colab": {
          "base_uri": "https://localhost:8080/",
          "height": 313
        },
        "id": "P7mFhr7teDb3",
        "outputId": "33be3149-a5e4-450c-9c90-86757699256c"
      },
      "execution_count": 82,
      "outputs": [
        {
          "output_type": "execute_result",
          "data": {
            "text/plain": [
              "Text(0.5, 1.0, 'LightFM Max Iteration = 25, rank = 10')"
            ]
          },
          "metadata": {},
          "execution_count": 82
        },
        {
          "output_type": "display_data",
          "data": {
            "text/plain": [
              "<Figure size 864x288 with 2 Axes>"
            ],
            "image/png": "[encoded data removed]"
          },
          "metadata": {
            "needs_background": "light"
          }
        }
      ]
    },
    {
      "cell_type": "code",
      "source": [
        "fig, ((ax1, ax2))  = plt.subplots(1,2,figsize=(12,4))\n",
        "\n",
        "ax1.plot(rank, t2, color = 'k',linestyle='-', marker='o', label = 'regularization = 0.001, max iter = 25', mec = 'k', mfc = 'k')\n",
        "ax2.plot(np.log(reg_para), t1, color = 'g',linestyle='-', marker='o', label = 'rank = 10, max iter = 25', mec = 'g', mfc = 'g')\n",
        "ax1.set_xlabel('rank(no_components)')\n",
        "ax1.set_ylabel('running time in second')\n",
        "ax1.set_xticks(rank)\n",
        "ax1.set_title(\"Running Time of LFM on small dataset\")\n",
        "ax2.set_xlabel('log of regularization parameter')\n",
        "ax2.set_ylabel('running time in second')\n",
        "ax2.set_xticks([round(i, 1) for i in np.log(reg_para)])\n",
        "ax2.set_title(\"Running time of LFM on small dataset\")\n",
        "ax1.legend()\n",
        "ax2.legend()\n"
      ],
      "metadata": {
        "colab": {
          "base_uri": "https://localhost:8080/",
          "height": 313
        },
        "id": "B8iP2ZjAmKGh",
        "outputId": "f74a556f-5f9c-4e12-8517-7aefbd814f27"
      },
      "execution_count": 69,
      "outputs": [
        {
          "output_type": "execute_result",
          "data": {
            "text/plain": [
              "<matplotlib.legend.Legend at 0x7fcbb0b201d0>"
            ]
          },
          "metadata": {},
          "execution_count": 69
        },
        {
          "output_type": "display_data",
          "data": {
            "text/plain": [
              "<Figure size 864x288 with 2 Axes>"
            ],
            "image/png": "[encoded data removed]"
          },
          "metadata": {
            "needs_background": "light"
          }
        }
      ]
    },
    {
      "cell_type": "markdown",
      "source": [
        "Prediction on the test set"
      ],
      "metadata": {
        "id": "73H6moPntF2m"
      }
    },
    {
      "cell_type": "code",
      "source": [
        "\n",
        "init = time()\n",
        "m = LightFM(no_components= 10, user_alpha = 0.001, loss='warp', random_state = 1999)\n",
        "m.fit(interactions = tr_interaction, sample_weight = w, epochs = 25)\n",
        "pred = precision_at_k(m, small_test, train_interactions=tr_interaction, k=100).mean()\n",
        "total = time() - init\n",
        "print(pred)\n",
        "print(total)\n",
        "\n"
      ],
      "metadata": {
        "id": "OmGdRiW3iTa3",
        "colab": {
          "base_uri": "https://localhost:8080/"
        },
        "outputId": "bb1fa1e5-79fd-4a94-926f-213241b39f45"
      },
      "execution_count": 78,
      "outputs": [
        {
          "output_type": "stream",
          "name": "stdout",
          "text": [
            "0.21460177\n",
            "2.1128406524658203\n"
          ]
        }
      ]
    }
  ]
}